{
 "cells": [
  {
   "cell_type": "code",
   "execution_count": 1,
   "id": "initial_id",
   "metadata": {
    "collapsed": true,
    "ExecuteTime": {
     "end_time": "2024-01-04T20:19:12.015316600Z",
     "start_time": "2024-01-04T20:19:11.052866900Z"
    }
   },
   "outputs": [
    {
     "name": "stderr",
     "output_type": "stream",
     "text": [
      "C:\\Users\\Ian\\AppData\\Roaming\\Python\\Python310\\site-packages\\scipy\\__init__.py:146: UserWarning: A NumPy version >=1.17.3 and <1.25.0 is required for this version of SciPy (detected version 1.26.2\n",
      "  warnings.warn(f\"A NumPy version >={np_minversion} and <{np_maxversion}\"\n"
     ]
    }
   ],
   "source": [
    "from pyACS.dev import Dev"
   ]
  },
  {
   "cell_type": "code",
   "execution_count": 2,
   "outputs": [],
   "source": [
    "dev_filepath = 'example_acs284.dev'"
   ],
   "metadata": {
    "collapsed": false,
    "ExecuteTime": {
     "end_time": "2024-01-04T20:19:12.030905900Z",
     "start_time": "2024-01-04T20:19:12.016313200Z"
    }
   },
   "id": "2ff36043d1c919dc"
  },
  {
   "cell_type": "code",
   "execution_count": 3,
   "outputs": [
    {
     "name": "stdout",
     "output_type": "stream",
     "text": [
      "CPU times: total: 0 ns\n",
      "Wall time: 2.99 ms\n"
     ]
    }
   ],
   "source": [
    "%%time\n",
    "dev = Dev(dev_filepath)"
   ],
   "metadata": {
    "collapsed": false,
    "ExecuteTime": {
     "end_time": "2024-01-04T20:19:12.075962700Z",
     "start_time": "2024-01-04T20:19:12.031902300Z"
    }
   },
   "id": "e878ba70676e3fa6"
  },
  {
   "cell_type": "markdown",
   "source": [
    "## Accessing Dev Metadata As Attributes"
   ],
   "metadata": {
    "collapsed": false
   },
   "id": "5c1d98a01f861ab7"
  },
  {
   "cell_type": "code",
   "execution_count": 4,
   "outputs": [
    {
     "name": "stdout",
     "output_type": "stream",
     "text": [
      "Filepath: example_acs284.dev\n",
      "Serial Number: ACS284\n",
      "Number of Wavelengths: 85\n",
      "Number of Temperature Bins: 35\n",
      "Delta T A Shape: (85, 35)\n",
      "Lambda a: [401.2 405.  408.7 411.9 415.3 419.2 423.3 427.4 431.5 435.4 438.9 443.2\n",
      " 447.8 452.  456.4 460.4 464.5 468.5 473.3 477.8 482.4 486.7 490.9 494.9\n",
      " 499.1 503.5 508.  512.3 517.  521.3 525.6 529.8 533.5 537.7 541.6 545.7\n",
      " 549.7 553.6 557.9 561.8 565.9 569.6 573.  576.4 579.3 583.  586.9 591.\n",
      " 594.9 599.1 603.3 607.5 611.8 616.2 620.2 624.5 628.7 632.7 636.7 640.8\n",
      " 644.8 648.9 653.2 657.7 661.9 666.2 670.5 674.5 678.5 682.5 686.4 690.3\n",
      " 693.9 697.6 701.2 704.9 708.4 712.1 715.7 719.3 722.7 725.9 729.5 732.6\n",
      " 735.8]\n",
      "Offsets a: [-1.118704 -0.95062  -0.799257 -0.662528 -0.537118 -0.420091 -0.313261\n",
      " -0.209484 -0.114756 -0.02481   0.058958  0.139318  0.215207  0.287463\n",
      "  0.357251  0.424577  0.488015  0.548444  0.605475  0.659976  0.712679\n",
      "  0.76238   0.809929  0.855908  0.898055  0.937653  0.974387  1.009814\n",
      "  1.044468  1.078762  1.111619  1.143431  1.173877  1.202758  1.229663\n",
      "  1.255119  1.279411  1.302573  1.324964  1.346189  1.365547  1.382734\n",
      "  1.396999  1.408256  1.4169    1.425817  1.430373  1.42912   1.422803\n",
      "  1.415164  1.411586  1.415804  1.426421  1.439822  1.454124  1.467964\n",
      "  1.480629  1.492719  1.503619  1.512996  1.519575  1.522346  1.521601\n",
      "  1.51961   1.519544  1.522582  1.52735   1.531476  1.532028  1.527583\n",
      "  1.51642   1.496354  1.46596   1.424117  1.368469  1.296575  1.204592\n",
      "  1.089808  0.950759  0.784231  0.589978  0.373007  0.145657 -0.074927\n",
      " -0.266722]\n"
     ]
    }
   ],
   "source": [
    "print(f\"Filepath: {dev.filepath}\")\n",
    "print(f\"Serial Number: {dev.sn}\")\n",
    "print(f\"Number of Wavelengths: {dev.output_wavelength}\")\n",
    "print(f\"Number of Temperature Bins: {dev.num_tbins}\")\n",
    "print(f\"Delta T A Shape: {dev.delta_t_a.shape}\")\n",
    "print(f\"Lambda a: {dev.lambda_a}\")\n",
    "print(f\"Offsets a: {dev.offset_a}\")"
   ],
   "metadata": {
    "collapsed": false,
    "ExecuteTime": {
     "end_time": "2024-01-04T20:19:12.087922800Z",
     "start_time": "2024-01-04T20:19:12.047987Z"
    }
   },
   "id": "3b534b84bc4b132a"
  },
  {
   "cell_type": "markdown",
   "source": [
    "## Accessing Dev Metadata As An Xarray Dataset"
   ],
   "metadata": {
    "collapsed": false
   },
   "id": "d95c71a453cfacf"
  },
  {
   "cell_type": "code",
   "execution_count": 5,
   "outputs": [
    {
     "data": {
      "text/plain": "<xarray.Dataset>\nDimensions:           (lambda_a: 85, lambda_c: 85, temperature_bins: 35)\nCoordinates:\n  * lambda_a          (lambda_a) float64 401.2 405.0 408.7 ... 729.5 732.6 735.8\n  * lambda_c          (lambda_c) float64 400.3 403.7 407.5 ... 725.9 729.2 732.9\n  * temperature_bins  (temperature_bins) float64 0.4333 1.415 ... 33.5 34.52\nData variables:\n    offsets_a         (lambda_a) float64 -1.119 -0.9506 ... -0.07493 -0.2667\n    delta_t_a         (lambda_a, temperature_bins) float64 0.06387 ... -0.000542\n    offsets_c         (lambda_c) float64 -0.2102 -0.09999 ... -0.7168 -0.9418\n    delta_t_c         (lambda_c, temperature_bins) float64 0.01225 ... -0.002496\nAttributes:\n    sensor_type:               ACS Meter\\t\\t\\t\\t\\t\\t\\t\\t\\t\\t\\t\\t\\t\\t\\t\\t\\t\\t\\...\n    serial_number:             ACS284\n    factory_calibration_date:  2018-08-10\n    output_wavelengths:        85\n    number_temp_bins:          35\n    path_length:               0.25\n    tcal:                      23.5\n    ical:                      19.3\n    baudrate:                  115200\n    dev_structure_version:     3",
      "text/html": "<div><svg style=\"position: absolute; width: 0; height: 0; overflow: hidden\">\n<defs>\n<symbol id=\"icon-database\" viewBox=\"0 0 32 32\">\n<path d=\"M16 0c-8.837 0-16 2.239-16 5v4c0 2.761 7.163 5 16 5s16-2.239 16-5v-4c0-2.761-7.163-5-16-5z\"></path>\n<path d=\"M16 17c-8.837 0-16-2.239-16-5v6c0 2.761 7.163 5 16 5s16-2.239 16-5v-6c0 2.761-7.163 5-16 5z\"></path>\n<path d=\"M16 26c-8.837 0-16-2.239-16-5v6c0 2.761 7.163 5 16 5s16-2.239 16-5v-6c0 2.761-7.163 5-16 5z\"></path>\n</symbol>\n<symbol id=\"icon-file-text2\" viewBox=\"0 0 32 32\">\n<path d=\"M28.681 7.159c-0.694-0.947-1.662-2.053-2.724-3.116s-2.169-2.030-3.116-2.724c-1.612-1.182-2.393-1.319-2.841-1.319h-15.5c-1.378 0-2.5 1.121-2.5 2.5v27c0 1.378 1.122 2.5 2.5 2.5h23c1.378 0 2.5-1.122 2.5-2.5v-19.5c0-0.448-0.137-1.23-1.319-2.841zM24.543 5.457c0.959 0.959 1.712 1.825 2.268 2.543h-4.811v-4.811c0.718 0.556 1.584 1.309 2.543 2.268zM28 29.5c0 0.271-0.229 0.5-0.5 0.5h-23c-0.271 0-0.5-0.229-0.5-0.5v-27c0-0.271 0.229-0.5 0.5-0.5 0 0 15.499-0 15.5 0v7c0 0.552 0.448 1 1 1h7v19.5z\"></path>\n<path d=\"M23 26h-14c-0.552 0-1-0.448-1-1s0.448-1 1-1h14c0.552 0 1 0.448 1 1s-0.448 1-1 1z\"></path>\n<path d=\"M23 22h-14c-0.552 0-1-0.448-1-1s0.448-1 1-1h14c0.552 0 1 0.448 1 1s-0.448 1-1 1z\"></path>\n<path d=\"M23 18h-14c-0.552 0-1-0.448-1-1s0.448-1 1-1h14c0.552 0 1 0.448 1 1s-0.448 1-1 1z\"></path>\n</symbol>\n</defs>\n</svg>\n<style>/* CSS stylesheet for displaying xarray objects in jupyterlab.\n *\n */\n\n:root {\n  --xr-font-color0: var(--jp-content-font-color0, rgba(0, 0, 0, 1));\n  --xr-font-color2: var(--jp-content-font-color2, rgba(0, 0, 0, 0.54));\n  --xr-font-color3: var(--jp-content-font-color3, rgba(0, 0, 0, 0.38));\n  --xr-border-color: var(--jp-border-color2, #e0e0e0);\n  --xr-disabled-color: var(--jp-layout-color3, #bdbdbd);\n  --xr-background-color: var(--jp-layout-color0, white);\n  --xr-background-color-row-even: var(--jp-layout-color1, white);\n  --xr-background-color-row-odd: var(--jp-layout-color2, #eeeeee);\n}\n\nhtml[theme=dark],\nbody.vscode-dark {\n  --xr-font-color0: rgba(255, 255, 255, 1);\n  --xr-font-color2: rgba(255, 255, 255, 0.54);\n  --xr-font-color3: rgba(255, 255, 255, 0.38);\n  --xr-border-color: #1F1F1F;\n  --xr-disabled-color: #515151;\n  --xr-background-color: #111111;\n  --xr-background-color-row-even: #111111;\n  --xr-background-color-row-odd: #313131;\n}\n\n.xr-wrap {\n  display: block !important;\n  min-width: 300px;\n  max-width: 700px;\n}\n\n.xr-text-repr-fallback {\n  /* fallback to plain text repr when CSS is not injected (untrusted notebook) */\n  display: none;\n}\n\n.xr-header {\n  padding-top: 6px;\n  padding-bottom: 6px;\n  margin-bottom: 4px;\n  border-bottom: solid 1px var(--xr-border-color);\n}\n\n.xr-header > div,\n.xr-header > ul {\n  display: inline;\n  margin-top: 0;\n  margin-bottom: 0;\n}\n\n.xr-obj-type,\n.xr-array-name {\n  margin-left: 2px;\n  margin-right: 10px;\n}\n\n.xr-obj-type {\n  color: var(--xr-font-color2);\n}\n\n.xr-sections {\n  padding-left: 0 !important;\n  display: grid;\n  grid-template-columns: 150px auto auto 1fr 20px 20px;\n}\n\n.xr-section-item {\n  display: contents;\n}\n\n.xr-section-item input {\n  display: none;\n}\n\n.xr-section-item input + label {\n  color: var(--xr-disabled-color);\n}\n\n.xr-section-item input:enabled + label {\n  cursor: pointer;\n  color: var(--xr-font-color2);\n}\n\n.xr-section-item input:enabled + label:hover {\n  color: var(--xr-font-color0);\n}\n\n.xr-section-summary {\n  grid-column: 1;\n  color: var(--xr-font-color2);\n  font-weight: 500;\n}\n\n.xr-section-summary > span {\n  display: inline-block;\n  padding-left: 0.5em;\n}\n\n.xr-section-summary-in:disabled + label {\n  color: var(--xr-font-color2);\n}\n\n.xr-section-summary-in + label:before {\n  display: inline-block;\n  content: '►';\n  font-size: 11px;\n  width: 15px;\n  text-align: center;\n}\n\n.xr-section-summary-in:disabled + label:before {\n  color: var(--xr-disabled-color);\n}\n\n.xr-section-summary-in:checked + label:before {\n  content: '▼';\n}\n\n.xr-section-summary-in:checked + label > span {\n  display: none;\n}\n\n.xr-section-summary,\n.xr-section-inline-details {\n  padding-top: 4px;\n  padding-bottom: 4px;\n}\n\n.xr-section-inline-details {\n  grid-column: 2 / -1;\n}\n\n.xr-section-details {\n  display: none;\n  grid-column: 1 / -1;\n  margin-bottom: 5px;\n}\n\n.xr-section-summary-in:checked ~ .xr-section-details {\n  display: contents;\n}\n\n.xr-array-wrap {\n  grid-column: 1 / -1;\n  display: grid;\n  grid-template-columns: 20px auto;\n}\n\n.xr-array-wrap > label {\n  grid-column: 1;\n  vertical-align: top;\n}\n\n.xr-preview {\n  color: var(--xr-font-color3);\n}\n\n.xr-array-preview,\n.xr-array-data {\n  padding: 0 5px !important;\n  grid-column: 2;\n}\n\n.xr-array-data,\n.xr-array-in:checked ~ .xr-array-preview {\n  display: none;\n}\n\n.xr-array-in:checked ~ .xr-array-data,\n.xr-array-preview {\n  display: inline-block;\n}\n\n.xr-dim-list {\n  display: inline-block !important;\n  list-style: none;\n  padding: 0 !important;\n  margin: 0;\n}\n\n.xr-dim-list li {\n  display: inline-block;\n  padding: 0;\n  margin: 0;\n}\n\n.xr-dim-list:before {\n  content: '(';\n}\n\n.xr-dim-list:after {\n  content: ')';\n}\n\n.xr-dim-list li:not(:last-child):after {\n  content: ',';\n  padding-right: 5px;\n}\n\n.xr-has-index {\n  font-weight: bold;\n}\n\n.xr-var-list,\n.xr-var-item {\n  display: contents;\n}\n\n.xr-var-item > div,\n.xr-var-item label,\n.xr-var-item > .xr-var-name span {\n  background-color: var(--xr-background-color-row-even);\n  margin-bottom: 0;\n}\n\n.xr-var-item > .xr-var-name:hover span {\n  padding-right: 5px;\n}\n\n.xr-var-list > li:nth-child(odd) > div,\n.xr-var-list > li:nth-child(odd) > label,\n.xr-var-list > li:nth-child(odd) > .xr-var-name span {\n  background-color: var(--xr-background-color-row-odd);\n}\n\n.xr-var-name {\n  grid-column: 1;\n}\n\n.xr-var-dims {\n  grid-column: 2;\n}\n\n.xr-var-dtype {\n  grid-column: 3;\n  text-align: right;\n  color: var(--xr-font-color2);\n}\n\n.xr-var-preview {\n  grid-column: 4;\n}\n\n.xr-var-name,\n.xr-var-dims,\n.xr-var-dtype,\n.xr-preview,\n.xr-attrs dt {\n  white-space: nowrap;\n  overflow: hidden;\n  text-overflow: ellipsis;\n  padding-right: 10px;\n}\n\n.xr-var-name:hover,\n.xr-var-dims:hover,\n.xr-var-dtype:hover,\n.xr-attrs dt:hover {\n  overflow: visible;\n  width: auto;\n  z-index: 1;\n}\n\n.xr-var-attrs,\n.xr-var-data {\n  display: none;\n  background-color: var(--xr-background-color) !important;\n  padding-bottom: 5px !important;\n}\n\n.xr-var-attrs-in:checked ~ .xr-var-attrs,\n.xr-var-data-in:checked ~ .xr-var-data {\n  display: block;\n}\n\n.xr-var-data > table {\n  float: right;\n}\n\n.xr-var-name span,\n.xr-var-data,\n.xr-attrs {\n  padding-left: 25px !important;\n}\n\n.xr-attrs,\n.xr-var-attrs,\n.xr-var-data {\n  grid-column: 1 / -1;\n}\n\ndl.xr-attrs {\n  padding: 0;\n  margin: 0;\n  display: grid;\n  grid-template-columns: 125px auto;\n}\n\n.xr-attrs dt,\n.xr-attrs dd {\n  padding: 0;\n  margin: 0;\n  float: left;\n  padding-right: 10px;\n  width: auto;\n}\n\n.xr-attrs dt {\n  font-weight: normal;\n  grid-column: 1;\n}\n\n.xr-attrs dt:hover span {\n  display: inline-block;\n  background: var(--xr-background-color);\n  padding-right: 10px;\n}\n\n.xr-attrs dd {\n  grid-column: 2;\n  white-space: pre-wrap;\n  word-break: break-all;\n}\n\n.xr-icon-database,\n.xr-icon-file-text2 {\n  display: inline-block;\n  vertical-align: middle;\n  width: 1em;\n  height: 1.5em !important;\n  stroke-width: 0;\n  stroke: currentColor;\n  fill: currentColor;\n}\n</style><pre class='xr-text-repr-fallback'>&lt;xarray.Dataset&gt;\nDimensions:           (lambda_a: 85, lambda_c: 85, temperature_bins: 35)\nCoordinates:\n  * lambda_a          (lambda_a) float64 401.2 405.0 408.7 ... 729.5 732.6 735.8\n  * lambda_c          (lambda_c) float64 400.3 403.7 407.5 ... 725.9 729.2 732.9\n  * temperature_bins  (temperature_bins) float64 0.4333 1.415 ... 33.5 34.52\nData variables:\n    offsets_a         (lambda_a) float64 -1.119 -0.9506 ... -0.07493 -0.2667\n    delta_t_a         (lambda_a, temperature_bins) float64 0.06387 ... -0.000542\n    offsets_c         (lambda_c) float64 -0.2102 -0.09999 ... -0.7168 -0.9418\n    delta_t_c         (lambda_c, temperature_bins) float64 0.01225 ... -0.002496\nAttributes:\n    sensor_type:               ACS Meter\\t\\t\\t\\t\\t\\t\\t\\t\\t\\t\\t\\t\\t\\t\\t\\t\\t\\t\\...\n    serial_number:             ACS284\n    factory_calibration_date:  2018-08-10\n    output_wavelengths:        85\n    number_temp_bins:          35\n    path_length:               0.25\n    tcal:                      23.5\n    ical:                      19.3\n    baudrate:                  115200\n    dev_structure_version:     3</pre><div class='xr-wrap' style='display:none'><div class='xr-header'><div class='xr-obj-type'>xarray.Dataset</div></div><ul class='xr-sections'><li class='xr-section-item'><input id='section-0d8bb33b-50fd-4cc9-83da-6ff2abadadfe' class='xr-section-summary-in' type='checkbox' disabled ><label for='section-0d8bb33b-50fd-4cc9-83da-6ff2abadadfe' class='xr-section-summary'  title='Expand/collapse section'>Dimensions:</label><div class='xr-section-inline-details'><ul class='xr-dim-list'><li><span class='xr-has-index'>lambda_a</span>: 85</li><li><span class='xr-has-index'>lambda_c</span>: 85</li><li><span class='xr-has-index'>temperature_bins</span>: 35</li></ul></div><div class='xr-section-details'></div></li><li class='xr-section-item'><input id='section-bc9c7af5-1024-4291-a105-d89ead4ae5b9' class='xr-section-summary-in' type='checkbox'  checked><label for='section-bc9c7af5-1024-4291-a105-d89ead4ae5b9' class='xr-section-summary' >Coordinates: <span>(3)</span></label><div class='xr-section-inline-details'></div><div class='xr-section-details'><ul class='xr-var-list'><li class='xr-var-item'><div class='xr-var-name'><span class='xr-has-index'>lambda_a</span></div><div class='xr-var-dims'>(lambda_a)</div><div class='xr-var-dtype'>float64</div><div class='xr-var-preview xr-preview'>401.2 405.0 408.7 ... 732.6 735.8</div><input id='attrs-29a125bd-01aa-48a4-9c1f-c08ed4506fc2' class='xr-var-attrs-in' type='checkbox' ><label for='attrs-29a125bd-01aa-48a4-9c1f-c08ed4506fc2' title='Show/Hide attributes'><svg class='icon xr-icon-file-text2'><use xlink:href='#icon-file-text2'></use></svg></label><input id='data-54daa905-b197-45c3-91be-0636835c4628' class='xr-var-data-in' type='checkbox'><label for='data-54daa905-b197-45c3-91be-0636835c4628' title='Show/Hide data repr'><svg class='icon xr-icon-database'><use xlink:href='#icon-database'></use></svg></label><div class='xr-var-attrs'><dl class='xr-attrs'><dt><span>units :</span></dt><dd>nanometers</dd><dt><span>units_tex :</span></dt><dd>$nm$</dd><dt><span>description :</span></dt><dd>ACS absorption wavelength bins.</dd></dl></div><div class='xr-var-data'><pre>array([401.2, 405. , 408.7, 411.9, 415.3, 419.2, 423.3, 427.4, 431.5, 435.4,\n       438.9, 443.2, 447.8, 452. , 456.4, 460.4, 464.5, 468.5, 473.3, 477.8,\n       482.4, 486.7, 490.9, 494.9, 499.1, 503.5, 508. , 512.3, 517. , 521.3,\n       525.6, 529.8, 533.5, 537.7, 541.6, 545.7, 549.7, 553.6, 557.9, 561.8,\n       565.9, 569.6, 573. , 576.4, 579.3, 583. , 586.9, 591. , 594.9, 599.1,\n       603.3, 607.5, 611.8, 616.2, 620.2, 624.5, 628.7, 632.7, 636.7, 640.8,\n       644.8, 648.9, 653.2, 657.7, 661.9, 666.2, 670.5, 674.5, 678.5, 682.5,\n       686.4, 690.3, 693.9, 697.6, 701.2, 704.9, 708.4, 712.1, 715.7, 719.3,\n       722.7, 725.9, 729.5, 732.6, 735.8])</pre></div></li><li class='xr-var-item'><div class='xr-var-name'><span class='xr-has-index'>lambda_c</span></div><div class='xr-var-dims'>(lambda_c)</div><div class='xr-var-dtype'>float64</div><div class='xr-var-preview xr-preview'>400.3 403.7 407.5 ... 729.2 732.9</div><input id='attrs-b9853c38-0283-4b39-a236-a949cc01455e' class='xr-var-attrs-in' type='checkbox' ><label for='attrs-b9853c38-0283-4b39-a236-a949cc01455e' title='Show/Hide attributes'><svg class='icon xr-icon-file-text2'><use xlink:href='#icon-file-text2'></use></svg></label><input id='data-26c2f285-1a7d-4e2b-80ce-d063f684767f' class='xr-var-data-in' type='checkbox'><label for='data-26c2f285-1a7d-4e2b-80ce-d063f684767f' title='Show/Hide data repr'><svg class='icon xr-icon-database'><use xlink:href='#icon-database'></use></svg></label><div class='xr-var-attrs'><dl class='xr-attrs'><dt><span>units :</span></dt><dd>nanometers</dd><dt><span>units_tex :</span></dt><dd>$nm$</dd><dt><span>description :</span></dt><dd>ACS attenuation wavelength bins.</dd></dl></div><div class='xr-var-data'><pre>array([400.3, 403.7, 407.5, 410.9, 414.2, 418. , 421.9, 425.8, 430.1, 433.8,\n       437.5, 441.6, 445.8, 450.2, 454.5, 458.7, 462.7, 466.8, 471.2, 475.7,\n       480.3, 484.8, 489. , 493.2, 497.2, 501.4, 505.5, 510.2, 514.7, 519.2,\n       523.5, 527.7, 531.5, 535.3, 539.4, 543.3, 547.5, 551.4, 555.5, 559.4,\n       563.5, 567.3, 570.8, 574.2, 576.6, 580.3, 584.1, 588. , 591.7, 595.9,\n       599.9, 604.1, 608.5, 612.5, 616.9, 621. , 625.2, 629. , 633. , 637. ,\n       641.2, 645.5, 649.6, 653.9, 658.2, 662.3, 666.5, 670.5, 674.7, 678.6,\n       682.5, 686.6, 690.3, 694.1, 697.6, 701.3, 704.9, 708.6, 712.1, 715.7,\n       719.2, 722.5, 725.9, 729.2, 732.9])</pre></div></li><li class='xr-var-item'><div class='xr-var-name'><span class='xr-has-index'>temperature_bins</span></div><div class='xr-var-dims'>(temperature_bins)</div><div class='xr-var-dtype'>float64</div><div class='xr-var-preview xr-preview'>0.4333 1.415 2.466 ... 33.5 34.52</div><input id='attrs-61dd51d1-d0e2-4900-8234-79fd9f34db33' class='xr-var-attrs-in' type='checkbox' ><label for='attrs-61dd51d1-d0e2-4900-8234-79fd9f34db33' title='Show/Hide attributes'><svg class='icon xr-icon-file-text2'><use xlink:href='#icon-file-text2'></use></svg></label><input id='data-8d1ac5d0-1569-4c9f-ae1c-eb7738ae552a' class='xr-var-data-in' type='checkbox'><label for='data-8d1ac5d0-1569-4c9f-ae1c-eb7738ae552a' title='Show/Hide data repr'><svg class='icon xr-icon-database'><use xlink:href='#icon-database'></use></svg></label><div class='xr-var-attrs'><dl class='xr-attrs'><dt><span>units :</span></dt><dd>degrees_celsius</dd><dt><span>units_tex :</span></dt><dd>$^{\\circ}C$</dd><dt><span>description :</span></dt><dd>ACS calibration temperature bins.</dd></dl></div><div class='xr-var-data'><pre>array([ 0.43328 ,  1.41541 ,  2.466364,  3.488636,  4.497297,  5.485714,\n        6.498   ,  7.508421,  8.490303,  9.462424, 10.479189, 11.485682,\n       12.497778, 13.487097, 14.497273, 15.493333, 16.482059, 17.483429,\n       18.489143, 19.473939, 20.528333, 21.498421, 22.496389, 23.495135,\n       24.503421, 25.475577, 26.504894, 27.522745, 28.49623 , 29.482075,\n       30.496905, 31.493111, 32.482174, 33.502195, 34.519556])</pre></div></li></ul></div></li><li class='xr-section-item'><input id='section-7ed64f44-35df-479f-9ad4-002ae8c8b640' class='xr-section-summary-in' type='checkbox'  checked><label for='section-7ed64f44-35df-479f-9ad4-002ae8c8b640' class='xr-section-summary' >Data variables: <span>(4)</span></label><div class='xr-section-inline-details'></div><div class='xr-section-details'><ul class='xr-var-list'><li class='xr-var-item'><div class='xr-var-name'><span>offsets_a</span></div><div class='xr-var-dims'>(lambda_a)</div><div class='xr-var-dtype'>float64</div><div class='xr-var-preview xr-preview'>-1.119 -0.9506 ... -0.07493 -0.2667</div><input id='attrs-01dbf76c-b881-4e21-a501-8547f452d702' class='xr-var-attrs-in' type='checkbox' ><label for='attrs-01dbf76c-b881-4e21-a501-8547f452d702' title='Show/Hide attributes'><svg class='icon xr-icon-file-text2'><use xlink:href='#icon-file-text2'></use></svg></label><input id='data-2106cd88-028a-4163-a0e2-b8e4e7c6a48a' class='xr-var-data-in' type='checkbox'><label for='data-2106cd88-028a-4163-a0e2-b8e4e7c6a48a' title='Show/Hide data repr'><svg class='icon xr-icon-database'><use xlink:href='#icon-database'></use></svg></label><div class='xr-var-attrs'><dl class='xr-attrs'><dt><span>units :</span></dt><dd>inverse_meters</dd><dt><span>units_tex :</span></dt><dd>$\\frac{1}{m}$</dd><dt><span>description :</span></dt><dd>Instrument specific absorption offsets.</dd></dl></div><div class='xr-var-data'><pre>array([-1.118704, -0.95062 , -0.799257, -0.662528, -0.537118, -0.420091,\n       -0.313261, -0.209484, -0.114756, -0.02481 ,  0.058958,  0.139318,\n        0.215207,  0.287463,  0.357251,  0.424577,  0.488015,  0.548444,\n        0.605475,  0.659976,  0.712679,  0.76238 ,  0.809929,  0.855908,\n        0.898055,  0.937653,  0.974387,  1.009814,  1.044468,  1.078762,\n        1.111619,  1.143431,  1.173877,  1.202758,  1.229663,  1.255119,\n        1.279411,  1.302573,  1.324964,  1.346189,  1.365547,  1.382734,\n        1.396999,  1.408256,  1.4169  ,  1.425817,  1.430373,  1.42912 ,\n        1.422803,  1.415164,  1.411586,  1.415804,  1.426421,  1.439822,\n        1.454124,  1.467964,  1.480629,  1.492719,  1.503619,  1.512996,\n        1.519575,  1.522346,  1.521601,  1.51961 ,  1.519544,  1.522582,\n        1.52735 ,  1.531476,  1.532028,  1.527583,  1.51642 ,  1.496354,\n        1.46596 ,  1.424117,  1.368469,  1.296575,  1.204592,  1.089808,\n        0.950759,  0.784231,  0.589978,  0.373007,  0.145657, -0.074927,\n       -0.266722])</pre></div></li><li class='xr-var-item'><div class='xr-var-name'><span>delta_t_a</span></div><div class='xr-var-dims'>(lambda_a, temperature_bins)</div><div class='xr-var-dtype'>float64</div><div class='xr-var-preview xr-preview'>0.06387 0.06408 ... -0.000542</div><input id='attrs-d1ca75cb-aa71-453f-99e1-c672e24b28de' class='xr-var-attrs-in' type='checkbox' ><label for='attrs-d1ca75cb-aa71-453f-99e1-c672e24b28de' title='Show/Hide attributes'><svg class='icon xr-icon-file-text2'><use xlink:href='#icon-file-text2'></use></svg></label><input id='data-9b31dae1-0c8a-47a4-887b-87e767ec0cf4' class='xr-var-data-in' type='checkbox'><label for='data-9b31dae1-0c8a-47a4-887b-87e767ec0cf4' title='Show/Hide data repr'><svg class='icon xr-icon-database'><use xlink:href='#icon-database'></use></svg></label><div class='xr-var-attrs'><dl class='xr-attrs'><dt><span>units :</span></dt><dd>unitless</dd><dt><span>units_tex :</span></dt><dd></dd><dt><span>description :</span></dt><dd>Temperature correction deltas for absorption.</dd></dl></div><div class='xr-var-data'><pre>array([[ 0.063865,  0.064082,  0.063584, ..., -0.016882, -0.01982 ,\n        -0.02178 ],\n       [ 0.059882,  0.059775,  0.060039, ..., -0.016335, -0.018872,\n        -0.02113 ],\n       [ 0.051632,  0.053134,  0.053534, ..., -0.015446, -0.018021,\n        -0.020976],\n       ...,\n       [-0.0131  , -0.006947, -0.003784, ..., -0.000113, -0.000224,\n        -0.000464],\n       [-0.012793, -0.006592, -0.003487, ..., -0.00018 , -0.000344,\n        -0.0005  ],\n       [-0.012869, -0.006639, -0.003443, ..., -0.000199, -0.000399,\n        -0.000542]])</pre></div></li><li class='xr-var-item'><div class='xr-var-name'><span>offsets_c</span></div><div class='xr-var-dims'>(lambda_c)</div><div class='xr-var-dtype'>float64</div><div class='xr-var-preview xr-preview'>-0.2102 -0.09999 ... -0.9418</div><input id='attrs-7c5eb9c9-75fc-42a9-8b2f-4e4ec0f1fbda' class='xr-var-attrs-in' type='checkbox' ><label for='attrs-7c5eb9c9-75fc-42a9-8b2f-4e4ec0f1fbda' title='Show/Hide attributes'><svg class='icon xr-icon-file-text2'><use xlink:href='#icon-file-text2'></use></svg></label><input id='data-0fc82fa3-d9a7-4303-8459-52bef925f0c8' class='xr-var-data-in' type='checkbox'><label for='data-0fc82fa3-d9a7-4303-8459-52bef925f0c8' title='Show/Hide data repr'><svg class='icon xr-icon-database'><use xlink:href='#icon-database'></use></svg></label><div class='xr-var-attrs'><dl class='xr-attrs'><dt><span>units :</span></dt><dd>inverse_meters</dd><dt><span>units_tex :</span></dt><dd>$\\frac{1}{m}$</dd><dt><span>description :</span></dt><dd>Instrument specific attenuation offsets.</dd></dl></div><div class='xr-var-data'><pre>array([-0.21022 , -0.099992, -0.015555,  0.064083,  0.132182,  0.193323,\n        0.247186,  0.295297,  0.339235,  0.382507,  0.419505,  0.454656,\n        0.490731,  0.520512,  0.549325,  0.574659,  0.596751,  0.619245,\n        0.641293,  0.660348,  0.679881,  0.696834,  0.714227,  0.73081 ,\n        0.743239,  0.755189,  0.766908,  0.776796,  0.785791,  0.793947,\n        0.802149,  0.810847,  0.819689,  0.825373,  0.834312,  0.842232,\n        0.849851,  0.857776,  0.865683,  0.872625,  0.879712,  0.883882,\n        0.885909,  0.886899,  0.882846,  0.879623,  0.873849,  0.862825,\n        0.846698,  0.824313,  0.802611,  0.78608 ,  0.776255,  0.774734,\n        0.776858,  0.779877,  0.780603,  0.782967,  0.784533,  0.785217,\n        0.783819,  0.780733,  0.772855,  0.763159,  0.751963,  0.741947,\n        0.736953,  0.733987,  0.729474,  0.722656,  0.71204 ,  0.693601,\n        0.666387,  0.630311,  0.583643,  0.52201 ,  0.44582 ,  0.351244,\n        0.234389,  0.093961, -0.073216, -0.267225, -0.485562, -0.716767,\n       -0.941767])</pre></div></li><li class='xr-var-item'><div class='xr-var-name'><span>delta_t_c</span></div><div class='xr-var-dims'>(lambda_c, temperature_bins)</div><div class='xr-var-dtype'>float64</div><div class='xr-var-preview xr-preview'>0.01225 0.01151 ... -0.002496</div><input id='attrs-d460a904-c388-41d8-a972-ed60741faf5a' class='xr-var-attrs-in' type='checkbox' ><label for='attrs-d460a904-c388-41d8-a972-ed60741faf5a' title='Show/Hide attributes'><svg class='icon xr-icon-file-text2'><use xlink:href='#icon-file-text2'></use></svg></label><input id='data-549bb01f-d0ec-46f0-aae9-9fb034bb07c0' class='xr-var-data-in' type='checkbox'><label for='data-549bb01f-d0ec-46f0-aae9-9fb034bb07c0' title='Show/Hide data repr'><svg class='icon xr-icon-database'><use xlink:href='#icon-database'></use></svg></label><div class='xr-var-attrs'><dl class='xr-attrs'><dt><span>units :</span></dt><dd>unitless</dd><dt><span>units_tex :</span></dt><dd></dd><dt><span>description :</span></dt><dd>Temperature correction deltas for attenuation.</dd></dl></div><div class='xr-var-data'><pre>array([[ 0.012254,  0.01151 ,  0.009952, ...,  0.001206,  0.000304,\n        -0.000551],\n       [ 0.004663,  0.003932,  0.004432, ...,  0.00113 ,  0.000433,\n         0.000436],\n       [ 0.001271,  0.001714,  0.002666, ...,  0.002607,  0.002803,\n         0.001441],\n       ...,\n       [-0.000698,  0.001496,  0.002662, ..., -0.001655, -0.002041,\n        -0.002823],\n       [-0.000299,  0.001698,  0.002589, ..., -0.001427, -0.001893,\n        -0.002701],\n       [-0.000567,  0.001273,  0.00255 , ..., -0.001387, -0.001788,\n        -0.002496]])</pre></div></li></ul></div></li><li class='xr-section-item'><input id='section-f890f26e-0a91-4b49-bc13-9e19f6da9bd4' class='xr-section-summary-in' type='checkbox'  ><label for='section-f890f26e-0a91-4b49-bc13-9e19f6da9bd4' class='xr-section-summary' >Attributes: <span>(10)</span></label><div class='xr-section-inline-details'></div><div class='xr-section-details'><dl class='xr-attrs'><dt><span>sensor_type :</span></dt><dd>ACS Meter\t\t\t\t\t\t\t\t\t\t\t\t\t\t\t\t\t\t\t\t\t\t\t\t\t\t\t\t\t\t\t\t\t\t\t\t\t\t\t\t\t\t\t\t\t\t\t\t\t\t\t\t\t\t\t\t\t\t\t\t\t\t\t\t\t\t\t\t\t\t\t\t\t\t\t\t\t\t</dd><dt><span>serial_number :</span></dt><dd>ACS284</dd><dt><span>factory_calibration_date :</span></dt><dd>2018-08-10</dd><dt><span>output_wavelengths :</span></dt><dd>85</dd><dt><span>number_temp_bins :</span></dt><dd>35</dd><dt><span>path_length :</span></dt><dd>0.25</dd><dt><span>tcal :</span></dt><dd>23.5</dd><dt><span>ical :</span></dt><dd>19.3</dd><dt><span>baudrate :</span></dt><dd>115200</dd><dt><span>dev_structure_version :</span></dt><dd>3</dd></dl></div></li></ul></div></div>"
     },
     "execution_count": 5,
     "metadata": {},
     "output_type": "execute_result"
    }
   ],
   "source": [
    "devds = dev.to_ds()\n",
    "devds"
   ],
   "metadata": {
    "collapsed": false,
    "ExecuteTime": {
     "end_time": "2024-01-04T20:19:12.104476900Z",
     "start_time": "2024-01-04T20:19:12.063478900Z"
    }
   },
   "id": "ae54b9eb87f3b260"
  },
  {
   "cell_type": "markdown",
   "source": [
    "Additional info can be found in each variable attributes."
   ],
   "metadata": {
    "collapsed": false
   },
   "id": "1055c3f205e22c2b"
  },
  {
   "cell_type": "code",
   "execution_count": 6,
   "outputs": [
    {
     "data": {
      "text/plain": "{'units': 'nanometers',\n 'units_tex': '$nm$',\n 'description': 'ACS absorption wavelength bins.'}"
     },
     "execution_count": 6,
     "metadata": {},
     "output_type": "execute_result"
    }
   ],
   "source": [
    "devds.lambda_a.attrs"
   ],
   "metadata": {
    "collapsed": false,
    "ExecuteTime": {
     "end_time": "2024-01-04T20:19:12.171160Z",
     "start_time": "2024-01-04T20:19:12.096971100Z"
    }
   },
   "id": "416714d0a2341622"
  },
  {
   "cell_type": "code",
   "execution_count": 6,
   "outputs": [],
   "source": [],
   "metadata": {
    "collapsed": false,
    "ExecuteTime": {
     "end_time": "2024-01-04T20:19:12.183829100Z",
     "start_time": "2024-01-04T20:19:12.113987800Z"
    }
   },
   "id": "222bff6f9e65a76e"
  }
 ],
 "metadata": {
  "kernelspec": {
   "display_name": "Python 3",
   "language": "python",
   "name": "python3"
  },
  "language_info": {
   "codemirror_mode": {
    "name": "ipython",
    "version": 2
   },
   "file_extension": ".py",
   "mimetype": "text/x-python",
   "name": "python",
   "nbconvert_exporter": "python",
   "pygments_lexer": "ipython2",
   "version": "2.7.6"
  }
 },
 "nbformat": 4,
 "nbformat_minor": 5
}
